{
  "nbformat": 4,
  "nbformat_minor": 0,
  "metadata": {
    "colab": {
      "name": "Predicting image using cnn.ipynb",
      "provenance": []
    },
    "kernelspec": {
      "name": "python3",
      "display_name": "Python 3"
    },
    "language_info": {
      "name": "python"
    }
  },
  "cells": [
    {
      "cell_type": "markdown",
      "metadata": {
        "id": "OECp0ECnt5lf"
      },
      "source": [
        "# IMAGE RECOGNITION USING CONVOLUTIONAL NEURAL NETWORK"
      ]
    },
    {
      "cell_type": "code",
      "metadata": {
        "colab": {
          "base_uri": "https://localhost:8080/"
        },
        "id": "op6QWkwhJqwZ",
        "outputId": "701a96c1-d114-4950-96b6-79fbed1b2805"
      },
      "source": [
        "#Mengimport Library \n",
        "import tensorflow as tf\n"
      ],
      "execution_count": null,
      "outputs": [
        {
          "output_type": "stream",
          "text": [
            "2.5.0\n"
          ],
          "name": "stdout"
        }
      ]
    },
    {
      "cell_type": "markdown",
      "metadata": {
        "id": "cH2H2B5JuKq8"
      },
      "source": [
        "DATA "
      ]
    },
    {
      "cell_type": "code",
      "metadata": {
        "colab": {
          "base_uri": "https://localhost:8080/"
        },
        "id": "gSZhNKKJMa3T",
        "outputId": "53aae17c-03a9-4490-e475-1c10d38b9573"
      },
      "source": [
        "!wget --no-check-certificate \\\n",
        "https://dicodingacademy.blob.core.windows.net/picodiploma/ml_pemula_academy/rockpaperscissors.zip \\\n",
        "-O /tmp/rock_paper_scissors.zip"
      ],
      "execution_count": null,
      "outputs": [
        {
          "output_type": "stream",
          "text": [
            "--2021-06-05 08:06:06--  https://dicodingacademy.blob.core.windows.net/picodiploma/ml_pemula_academy/rockpaperscissors.zip\n",
            "Resolving dicodingacademy.blob.core.windows.net (dicodingacademy.blob.core.windows.net)... 52.239.197.36\n",
            "Connecting to dicodingacademy.blob.core.windows.net (dicodingacademy.blob.core.windows.net)|52.239.197.36|:443... connected.\n",
            "HTTP request sent, awaiting response... 200 OK\n",
            "Length: 322873683 (308M) [application/zip]\n",
            "Saving to: ‘/tmp/rock_paper_scissors.zip’\n",
            "\n",
            "/tmp/rock_paper_sci 100%[===================>] 307.92M  20.8MB/s    in 15s     \n",
            "\n",
            "2021-06-05 08:06:21 (19.9 MB/s) - ‘/tmp/rock_paper_scissors.zip’ saved [322873683/322873683]\n",
            "\n"
          ],
          "name": "stdout"
        }
      ]
    },
    {
      "cell_type": "code",
      "metadata": {
        "id": "EwohTxvMNfk5"
      },
      "source": [
        "#ekstraksi file zip\n",
        "import zipfile,os\n",
        "import shutil\n",
        "local_zip = '/tmp/rock_paper_scissors.zip'\n",
        "zip_ref = zipfile.ZipFile(local_zip, 'r')\n",
        "zip_ref.extractall('/tmp')\n",
        "zip_ref.close()\n",
        "base_direct = '/tmp/rockpaperscissors'\n",
        "\n",
        "#Menghapus folder 'rps-cv-images' agar class yang terderteksi hanya ada 3 class \n",
        "shutil.rmtree(os.path.join(base_direct,'rps-cv-images')) \n",
        "\n",
        "\n",
        "train_dir = os.path.join(base_direct, 'train')\n",
        "validation_dir = os.path.join(base_direct, 'val')"
      ],
      "execution_count": null,
      "outputs": []
    },
    {
      "cell_type": "markdown",
      "metadata": {
        "id": "PIT5obC_uQMM"
      },
      "source": [
        "SPLIT DATA SET"
      ]
    },
    {
      "cell_type": "code",
      "metadata": {
        "colab": {
          "base_uri": "https://localhost:8080/"
        },
        "id": "MRJaUbrWO6mx",
        "outputId": "17570c07-cd39-4380-cabe-9506cd381051"
      },
      "source": [
        "img_height, img_width = 150, 150,\n",
        "from tensorflow.keras.preprocessing.image import ImageDataGenerator\n",
        " \n",
        "dataset = ImageDataGenerator(\n",
        "                    rescale=1./255,\n",
        "                    rotation_range=20,\n",
        "                    horizontal_flip=True,\n",
        "                    vertical_flip=True,\n",
        "                    shear_range = 0.2,\n",
        "                    validation_split=0.4) \n",
        "train_set = dataset.flow_from_directory(\n",
        "                    base_direct,\n",
        "                    target_size=(img_height, img_width),\n",
        "                    color_mode='rgb',\n",
        "                    class_mode='categorical',\n",
        "                    subset='training')\n",
        "validation_set = dataset.flow_from_directory(\n",
        "                    base_direct,\n",
        "                    color_mode='rgb',\n",
        "                    target_size=(img_height, img_width),\n",
        "                    class_mode='categorical', \n",
        "                    subset='validation')\n",
        "#menggunakan categorical karena terdapat 3 class (lebih dari 2) yang akan diklasifikasikan "
      ],
      "execution_count": null,
      "outputs": [
        {
          "output_type": "stream",
          "text": [
            "Found 1314 images belonging to 3 classes.\n",
            "Found 874 images belonging to 3 classes.\n"
          ],
          "name": "stdout"
        }
      ]
    },
    {
      "cell_type": "markdown",
      "metadata": {
        "id": "9l27C2nKui9F"
      },
      "source": [
        "CNN LAYERS"
      ]
    },
    {
      "cell_type": "code",
      "metadata": {
        "id": "O-LzhFhpTE-w"
      },
      "source": [
        "#Membangun model CNN dengan empat layer convolusi \n",
        "model = tf.keras.models.Sequential([\n",
        "    #Layer Convolusi pertama\n",
        "    tf.keras.layers.Conv2D(32, (3,3), activation='relu', input_shape=(150, 150, 3)), \n",
        "    tf.keras.layers.MaxPooling2D(2, 2),\n",
        "    #Layer Convolusi kedua\n",
        "    tf.keras.layers.Conv2D(64, (3,3), activation='relu'),\n",
        "    tf.keras.layers.MaxPooling2D(2,2),\n",
        "    #Layer Convolusi ketiga\n",
        "    tf.keras.layers.Conv2D(128, (3,3), activation='relu'),\n",
        "    tf.keras.layers.MaxPooling2D(2,2),\n",
        "    #Layer Convolusi keempat\n",
        "    tf.keras.layers.Conv2D(256, (3,3), activation='relu'),\n",
        "    tf.keras.layers.MaxPooling2D(2,2),\n",
        "\n",
        "    tf.keras.layers.Flatten(),\n",
        "    tf.keras.layers.Dense(512, activation='relu'),\n",
        "    tf.keras.layers.Dense(3, activation='softmax') #Menggunakan activation softmax untuk menghasilkan probabilitas untuk setiap kelas (3 class)\n",
        "])\n"
      ],
      "execution_count": null,
      "outputs": []
    },
    {
      "cell_type": "code",
      "metadata": {
        "id": "-AW2FEv1V0Bh"
      },
      "source": [
        "# compile model dengan 'adam' optimizer loss function 'binary_crossentropy' \n",
        "model.compile(loss='categorical_crossentropy',\n",
        "              optimizer=tf.optimizers.Adam(),\n",
        "              metrics=['acc'])"
      ],
      "execution_count": null,
      "outputs": []
    },
    {
      "cell_type": "markdown",
      "metadata": {
        "id": "LukAoHugus1J"
      },
      "source": [
        "TRAINING PROCESS"
      ]
    },
    {
      "cell_type": "code",
      "metadata": {
        "colab": {
          "base_uri": "https://localhost:8080/"
        },
        "id": "qEKkgKfOXDXw",
        "outputId": "329a3c54-01b5-4c7f-b4c2-9757f5e6e250"
      },
      "source": [
        "# melatih data \n",
        "model.fit(train_set, batch_size=20, epochs=10, verbose=1, validation_data=validation_set)"
      ],
      "execution_count": null,
      "outputs": [
        {
          "output_type": "stream",
          "text": [
            "Epoch 1/10\n",
            "42/42 [==============================] - 86s 2s/step - loss: 0.8862 - acc: 0.5495 - val_loss: 0.5007 - val_acc: 0.8227\n",
            "Epoch 2/10\n",
            "42/42 [==============================] - 84s 2s/step - loss: 0.3428 - acc: 0.8790 - val_loss: 0.2769 - val_acc: 0.9073\n",
            "Epoch 3/10\n",
            "42/42 [==============================] - 84s 2s/step - loss: 0.2197 - acc: 0.9193 - val_loss: 0.3616 - val_acc: 0.8947\n",
            "Epoch 4/10\n",
            "42/42 [==============================] - 84s 2s/step - loss: 0.2014 - acc: 0.9285 - val_loss: 0.1562 - val_acc: 0.9519\n",
            "Epoch 5/10\n",
            "42/42 [==============================] - 84s 2s/step - loss: 0.1613 - acc: 0.9452 - val_loss: 0.1666 - val_acc: 0.9439\n",
            "Epoch 6/10\n",
            "42/42 [==============================] - 84s 2s/step - loss: 0.1389 - acc: 0.9536 - val_loss: 0.1248 - val_acc: 0.9622\n",
            "Epoch 7/10\n",
            "42/42 [==============================] - 83s 2s/step - loss: 0.2401 - acc: 0.9117 - val_loss: 0.1442 - val_acc: 0.9497\n",
            "Epoch 8/10\n",
            "42/42 [==============================] - 84s 2s/step - loss: 0.1017 - acc: 0.9673 - val_loss: 0.1303 - val_acc: 0.9634\n",
            "Epoch 9/10\n",
            "42/42 [==============================] - 83s 2s/step - loss: 0.0979 - acc: 0.9711 - val_loss: 0.1289 - val_acc: 0.9645\n",
            "Epoch 10/10\n",
            "42/42 [==============================] - 83s 2s/step - loss: 0.0991 - acc: 0.9658 - val_loss: 0.0971 - val_acc: 0.9691\n"
          ],
          "name": "stdout"
        },
        {
          "output_type": "execute_result",
          "data": {
            "text/plain": [
              "<tensorflow.python.keras.callbacks.History at 0x7f90783ed0d0>"
            ]
          },
          "metadata": {
            "tags": []
          },
          "execution_count": 43
        }
      ]
    },
    {
      "cell_type": "code",
      "metadata": {
        "colab": {
          "base_uri": "https://localhost:8080/"
        },
        "id": "sVkce83dj_DX",
        "outputId": "24f14c34-5297-4ffd-94ff-cb0d34e66dae"
      },
      "source": [
        "from google.colab import drive\n",
        "drive.mount('/content/drive')"
      ],
      "execution_count": null,
      "outputs": [
        {
          "output_type": "stream",
          "text": [
            "Mounted at /content/drive\n"
          ],
          "name": "stdout"
        }
      ]
    },
    {
      "cell_type": "markdown",
      "metadata": {
        "id": "cChIG2KKu1SW"
      },
      "source": [
        "PREDICTING PROCESS"
      ]
    },
    {
      "cell_type": "code",
      "metadata": {
        "colab": {
          "base_uri": "https://localhost:8080/",
          "height": 303
        },
        "id": "4sFM-tp8iGrv",
        "outputId": "a405e00d-9ff5-42c9-f2e4-a035be36284d"
      },
      "source": [
        "import numpy as np\n",
        "from keras.preprocessing import image\n",
        "import matplotlib.pyplot as plt\n",
        "import matplotlib.image as mpimg\n",
        "%matplotlib inline\n",
        " \n",
        "# gambar yang akan digunakan untuk data test\n",
        "fn = '/content/test-5.jpg'\n",
        " \n",
        "# Memprediksi gambar\n",
        "path = fn\n",
        "img = image.load_img(path, target_size=(150,150))\n",
        "imgplot = plt.imshow(img)\n",
        "x = image.img_to_array(img)\n",
        "x = np.expand_dims(x, axis=0)\n",
        " \n",
        "images = np.vstack([x])\n",
        "classes = model.predict(images)\n",
        "label_class = classes.argmax(axis=-1)\n",
        "  \n",
        "print(fn)\n",
        "if label_class==0:\n",
        "  print('paper')\n",
        "elif label_class==1:\n",
        "  print('rock')\n",
        "elif label_class==2: \n",
        "  print('scissors')\n"
      ],
      "execution_count": null,
      "outputs": [
        {
          "output_type": "stream",
          "text": [
            "/content/test-5.jpg\n",
            "scissors\n"
          ],
          "name": "stdout"
        },
        {
          "output_type": "display_data",
          "data": {
            "image/png": "[encoded data removed]",
            "text/plain": [
              "<Figure size 432x288 with 1 Axes>"
            ]
          },
          "metadata": {
            "tags": [],
            "needs_background": "light"
          }
        }
      ]
    }
  ]
}